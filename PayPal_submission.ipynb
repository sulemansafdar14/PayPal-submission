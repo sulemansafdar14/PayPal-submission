{
 "cells": [
  {
   "cell_type": "markdown",
   "metadata": {},
   "source": [
    "### PayPal case-study submission"
   ]
  },
  {
   "cell_type": "markdown",
   "metadata": {},
   "source": [
    "#### 1. Importing necessary library and packages"
   ]
  },
  {
   "cell_type": "code",
   "execution_count": 196,
   "metadata": {},
   "outputs": [],
   "source": [
    "# Importing necessay libraries and packages\n",
    "import pandas as pd\n",
    "import matplotlib.pyplot as plt\n",
    "import scipy.stats as stats\n",
    "import warnings\n",
    "import statistics as st\n",
    "warnings.filterwarnings('ignore')"
   ]
  },
  {
   "cell_type": "code",
   "execution_count": 197,
   "metadata": {},
   "outputs": [],
   "source": [
    "# Reading the necessary data-set ie., pancake flipping data across days for Boris & Arielle\n",
    "paypal_data = pd.read_csv('D:/Personal Documents/Job Application & switch/PayPal/data.csv')"
   ]
  },
  {
   "cell_type": "code",
   "execution_count": 198,
   "metadata": {},
   "outputs": [
    {
     "data": {
      "text/html": [
       "<div>\n",
       "<style scoped>\n",
       "    .dataframe tbody tr th:only-of-type {\n",
       "        vertical-align: middle;\n",
       "    }\n",
       "\n",
       "    .dataframe tbody tr th {\n",
       "        vertical-align: top;\n",
       "    }\n",
       "\n",
       "    .dataframe thead th {\n",
       "        text-align: right;\n",
       "    }\n",
       "</style>\n",
       "<table border=\"1\" class=\"dataframe\">\n",
       "  <thead>\n",
       "    <tr style=\"text-align: right;\">\n",
       "      <th></th>\n",
       "      <th>match_day</th>\n",
       "      <th>name</th>\n",
       "      <th>hand</th>\n",
       "      <th>score</th>\n",
       "      <th>attempts</th>\n",
       "    </tr>\n",
       "  </thead>\n",
       "  <tbody>\n",
       "    <tr>\n",
       "      <th>0</th>\n",
       "      <td>1</td>\n",
       "      <td>Arielle</td>\n",
       "      <td>R</td>\n",
       "      <td>8</td>\n",
       "      <td>20</td>\n",
       "    </tr>\n",
       "    <tr>\n",
       "      <th>1</th>\n",
       "      <td>2</td>\n",
       "      <td>Arielle</td>\n",
       "      <td>R</td>\n",
       "      <td>10</td>\n",
       "      <td>20</td>\n",
       "    </tr>\n",
       "    <tr>\n",
       "      <th>2</th>\n",
       "      <td>3</td>\n",
       "      <td>Arielle</td>\n",
       "      <td>R</td>\n",
       "      <td>6</td>\n",
       "      <td>20</td>\n",
       "    </tr>\n",
       "    <tr>\n",
       "      <th>3</th>\n",
       "      <td>4</td>\n",
       "      <td>Arielle</td>\n",
       "      <td>L</td>\n",
       "      <td>4</td>\n",
       "      <td>20</td>\n",
       "    </tr>\n",
       "    <tr>\n",
       "      <th>4</th>\n",
       "      <td>5</td>\n",
       "      <td>Arielle</td>\n",
       "      <td>R</td>\n",
       "      <td>7</td>\n",
       "      <td>20</td>\n",
       "    </tr>\n",
       "  </tbody>\n",
       "</table>\n",
       "</div>"
      ],
      "text/plain": [
       "   match_day     name hand  score  attempts\n",
       "0          1  Arielle    R      8        20\n",
       "1          2  Arielle    R     10        20\n",
       "2          3  Arielle    R      6        20\n",
       "3          4  Arielle    L      4        20\n",
       "4          5  Arielle    R      7        20"
      ]
     },
     "execution_count": 198,
     "metadata": {},
     "output_type": "execute_result"
    }
   ],
   "source": [
    "# Checking sample of pancake flipping score dataset \n",
    "paypal_data.head()"
   ]
  },
  {
   "cell_type": "code",
   "execution_count": 199,
   "metadata": {},
   "outputs": [],
   "source": [
    "# Calculate %age score for the players ie., No. of successful flips/Total no. of flips\n",
    "paypal_data['%score'] = (paypal_data['score']/paypal_data['attempts'])*100"
   ]
  },
  {
   "cell_type": "code",
   "execution_count": 200,
   "metadata": {},
   "outputs": [],
   "source": [
    "# Separating the data for Arielle & Boris, creating separate datasets\n",
    "arielle_data = paypal_data.loc[paypal_data['name']==\"Arielle\",:]\n",
    "boris_data = paypal_data.loc[paypal_data['name']==\"Boris\",:]"
   ]
  },
  {
   "cell_type": "code",
   "execution_count": 201,
   "metadata": {
    "scrolled": true
   },
   "outputs": [
    {
     "data": {
      "text/html": [
       "<div>\n",
       "<style scoped>\n",
       "    .dataframe tbody tr th:only-of-type {\n",
       "        vertical-align: middle;\n",
       "    }\n",
       "\n",
       "    .dataframe tbody tr th {\n",
       "        vertical-align: top;\n",
       "    }\n",
       "\n",
       "    .dataframe thead th {\n",
       "        text-align: right;\n",
       "    }\n",
       "</style>\n",
       "<table border=\"1\" class=\"dataframe\">\n",
       "  <thead>\n",
       "    <tr style=\"text-align: right;\">\n",
       "      <th></th>\n",
       "      <th>match_day</th>\n",
       "      <th>name</th>\n",
       "      <th>hand</th>\n",
       "      <th>score</th>\n",
       "      <th>attempts</th>\n",
       "      <th>%score</th>\n",
       "    </tr>\n",
       "  </thead>\n",
       "  <tbody>\n",
       "    <tr>\n",
       "      <th>0</th>\n",
       "      <td>1</td>\n",
       "      <td>Arielle</td>\n",
       "      <td>R</td>\n",
       "      <td>8</td>\n",
       "      <td>20</td>\n",
       "      <td>40.0</td>\n",
       "    </tr>\n",
       "    <tr>\n",
       "      <th>1</th>\n",
       "      <td>2</td>\n",
       "      <td>Arielle</td>\n",
       "      <td>R</td>\n",
       "      <td>10</td>\n",
       "      <td>20</td>\n",
       "      <td>50.0</td>\n",
       "    </tr>\n",
       "    <tr>\n",
       "      <th>2</th>\n",
       "      <td>3</td>\n",
       "      <td>Arielle</td>\n",
       "      <td>R</td>\n",
       "      <td>6</td>\n",
       "      <td>20</td>\n",
       "      <td>30.0</td>\n",
       "    </tr>\n",
       "    <tr>\n",
       "      <th>3</th>\n",
       "      <td>4</td>\n",
       "      <td>Arielle</td>\n",
       "      <td>L</td>\n",
       "      <td>4</td>\n",
       "      <td>20</td>\n",
       "      <td>20.0</td>\n",
       "    </tr>\n",
       "    <tr>\n",
       "      <th>4</th>\n",
       "      <td>5</td>\n",
       "      <td>Arielle</td>\n",
       "      <td>R</td>\n",
       "      <td>7</td>\n",
       "      <td>20</td>\n",
       "      <td>35.0</td>\n",
       "    </tr>\n",
       "  </tbody>\n",
       "</table>\n",
       "</div>"
      ],
      "text/plain": [
       "   match_day     name hand  score  attempts  %score\n",
       "0          1  Arielle    R      8        20    40.0\n",
       "1          2  Arielle    R     10        20    50.0\n",
       "2          3  Arielle    R      6        20    30.0\n",
       "3          4  Arielle    L      4        20    20.0\n",
       "4          5  Arielle    R      7        20    35.0"
      ]
     },
     "execution_count": 201,
     "metadata": {},
     "output_type": "execute_result"
    }
   ],
   "source": [
    "# Checking the Arielle dataset\n",
    "arielle_data.head()"
   ]
  },
  {
   "cell_type": "code",
   "execution_count": 202,
   "metadata": {},
   "outputs": [
    {
     "data": {
      "text/html": [
       "<div>\n",
       "<style scoped>\n",
       "    .dataframe tbody tr th:only-of-type {\n",
       "        vertical-align: middle;\n",
       "    }\n",
       "\n",
       "    .dataframe tbody tr th {\n",
       "        vertical-align: top;\n",
       "    }\n",
       "\n",
       "    .dataframe thead th {\n",
       "        text-align: right;\n",
       "    }\n",
       "</style>\n",
       "<table border=\"1\" class=\"dataframe\">\n",
       "  <thead>\n",
       "    <tr style=\"text-align: right;\">\n",
       "      <th></th>\n",
       "      <th>match_day</th>\n",
       "      <th>name</th>\n",
       "      <th>hand</th>\n",
       "      <th>score</th>\n",
       "      <th>attempts</th>\n",
       "      <th>%score</th>\n",
       "    </tr>\n",
       "  </thead>\n",
       "  <tbody>\n",
       "    <tr>\n",
       "      <th>0</th>\n",
       "      <td>1</td>\n",
       "      <td>Arielle</td>\n",
       "      <td>R</td>\n",
       "      <td>8</td>\n",
       "      <td>20</td>\n",
       "      <td>40.0</td>\n",
       "    </tr>\n",
       "    <tr>\n",
       "      <th>1</th>\n",
       "      <td>2</td>\n",
       "      <td>Arielle</td>\n",
       "      <td>R</td>\n",
       "      <td>10</td>\n",
       "      <td>20</td>\n",
       "      <td>50.0</td>\n",
       "    </tr>\n",
       "    <tr>\n",
       "      <th>2</th>\n",
       "      <td>3</td>\n",
       "      <td>Arielle</td>\n",
       "      <td>R</td>\n",
       "      <td>6</td>\n",
       "      <td>20</td>\n",
       "      <td>30.0</td>\n",
       "    </tr>\n",
       "    <tr>\n",
       "      <th>3</th>\n",
       "      <td>4</td>\n",
       "      <td>Arielle</td>\n",
       "      <td>L</td>\n",
       "      <td>4</td>\n",
       "      <td>20</td>\n",
       "      <td>20.0</td>\n",
       "    </tr>\n",
       "    <tr>\n",
       "      <th>4</th>\n",
       "      <td>5</td>\n",
       "      <td>Arielle</td>\n",
       "      <td>R</td>\n",
       "      <td>7</td>\n",
       "      <td>20</td>\n",
       "      <td>35.0</td>\n",
       "    </tr>\n",
       "  </tbody>\n",
       "</table>\n",
       "</div>"
      ],
      "text/plain": [
       "   match_day     name hand  score  attempts  %score\n",
       "0          1  Arielle    R      8        20    40.0\n",
       "1          2  Arielle    R     10        20    50.0\n",
       "2          3  Arielle    R      6        20    30.0\n",
       "3          4  Arielle    L      4        20    20.0\n",
       "4          5  Arielle    R      7        20    35.0"
      ]
     },
     "execution_count": 202,
     "metadata": {},
     "output_type": "execute_result"
    }
   ],
   "source": [
    "# Checking the Boris dataset\n",
    "arielle_data.head()"
   ]
  },
  {
   "cell_type": "code",
   "execution_count": 213,
   "metadata": {
    "scrolled": true
   },
   "outputs": [
    {
     "data": {
      "image/png": "[encoded data removed]",
      "text/plain": [
       "<Figure size 1080x576 with 1 Axes>"
      ]
     },
     "metadata": {
      "needs_background": "light"
     },
     "output_type": "display_data"
    }
   ],
   "source": [
    "# Plotting the %age scores across days for Boris and Arielle\n",
    "plt.figure(figsize=(15,8))\n",
    "plt.plot(arielle_data['match_day'],arielle_data['%score'],label='Arielle')\n",
    "plt.plot(boris_data['match_day'],boris_data['%score'],'--',label='Boris')\n",
    "plt.title('Player %age Score across days')\n",
    "plt.xlabel('Day')\n",
    "plt.ylabel('%age Score')\n",
    "plt.legend()\n",
    "plt.show()"
   ]
  },
  {
   "cell_type": "code",
   "execution_count": 162,
   "metadata": {
    "scrolled": true
   },
   "outputs": [
    {
     "data": {
      "text/plain": [
       "<Figure size 1440x1080 with 0 Axes>"
      ]
     },
     "metadata": {},
     "output_type": "display_data"
    },
    {
     "data": {
      "image/png": "[encoded data removed]",
      "text/plain": [
       "<Figure size 432x288 with 1 Axes>"
      ]
     },
     "metadata": {
      "needs_background": "light"
     },
     "output_type": "display_data"
    }
   ],
   "source": [
    "plt.figure(figsize=(20,15))\n",
    "paypal_data.boxplot(column = '%score',by='name',meanline=True, showmeans=True, showcaps=True, \n",
    "            showbox=True, showfliers=False, return_type='axes')\n",
    "plt.show()"
   ]
  },
  {
   "cell_type": "markdown",
   "metadata": {},
   "source": [
    "No conclusion can be drawn, except for the fact that player performance fluctuates a lot across the 50 days"
   ]
  },
  {
   "cell_type": "code",
   "execution_count": 237,
   "metadata": {},
   "outputs": [
    {
     "data": {
      "image/png": "[encoded data removed]",
      "text/plain": [
       "<Figure size 1080x576 with 1 Axes>"
      ]
     },
     "metadata": {
      "needs_background": "light"
     },
     "output_type": "display_data"
    }
   ],
   "source": [
    "# Plotting the %age scores across days for Boris and Arielle\n",
    "plt.figure(figsize=(15,8))\n",
    "plt.plot(arielle_data['match_day'],arielle_data['%score'].rolling(5).mean(),label='Arielle')\n",
    "plt.plot(boris_data['match_day'],boris_data['%score'].rolling(5).mean(),'--',label='Boris')\n",
    "plt.title('Player %age Score 5-day Moving-average across days')\n",
    "plt.xlabel('Day')\n",
    "plt.ylabel('%age Score')\n",
    "plt.legend()\n",
    "plt.show()"
   ]
  },
  {
   "cell_type": "markdown",
   "metadata": {},
   "source": [
    "No major conclusion can be drawn, Arielle seems to performing well intially then Boris picks up"
   ]
  },
  {
   "cell_type": "code",
   "execution_count": 238,
   "metadata": {},
   "outputs": [],
   "source": [
    "# Comparing left-hand performance of players\n",
    "leftscore = paypal_data.loc[(paypal_data['name']=='Boris') & (paypal_data['hand']=='L'),:].merge(paypal_data.loc[(paypal_data['name']=='Arielle') & (paypal_data['hand']=='L'),:],on='match_day')"
   ]
  },
  {
   "cell_type": "code",
   "execution_count": 239,
   "metadata": {},
   "outputs": [],
   "source": [
    "leftscore = leftscore.reset_index()"
   ]
  },
  {
   "cell_type": "code",
   "execution_count": 240,
   "metadata": {
    "scrolled": true
   },
   "outputs": [
    {
     "data": {
      "image/png": "[encoded data removed]",
      "text/plain": [
       "<Figure size 1080x576 with 1 Axes>"
      ]
     },
     "metadata": {
      "needs_background": "light"
     },
     "output_type": "display_data"
    }
   ],
   "source": [
    "# Plotting the left-hand %age scores across days for Boris and Arielle\n",
    "plt.figure(figsize=(15,8))\n",
    "plt.plot(leftscore['index'],leftscore['%score_x'],label='Arielle')\n",
    "plt.plot(leftscore['index'],leftscore['%score_y'],'--',label='Boris')\n",
    "plt.title('Player left-hand %age Score across days')\n",
    "plt.xlabel('Day')\n",
    "plt.ylabel('%age Score')\n",
    "plt.legend()\n",
    "plt.show()"
   ]
  },
  {
   "cell_type": "markdown",
   "metadata": {},
   "source": [
    "Nothing conclusive, very few-times Arielle has better left-hand performance than Boris, but Boris also has instances where he has outperformed Arielle in right-hand pancake flipping"
   ]
  },
  {
   "cell_type": "code",
   "execution_count": 242,
   "metadata": {},
   "outputs": [],
   "source": [
    "# Comparing right-hand performance of players\n",
    "rightscore = paypal_data.loc[(paypal_data['name']=='Boris') & (paypal_data['hand']=='R'),:].merge(paypal_data.loc[(paypal_data['name']=='Arielle') & (paypal_data['hand']=='R'),:],on='match_day')"
   ]
  },
  {
   "cell_type": "code",
   "execution_count": 243,
   "metadata": {},
   "outputs": [],
   "source": [
    "rightscore = rightscore.reset_index()"
   ]
  },
  {
   "cell_type": "code",
   "execution_count": 244,
   "metadata": {
    "scrolled": true
   },
   "outputs": [
    {
     "data": {
      "image/png": "[encoded data removed]",
      "text/plain": [
       "<Figure size 1080x576 with 1 Axes>"
      ]
     },
     "metadata": {
      "needs_background": "light"
     },
     "output_type": "display_data"
    }
   ],
   "source": [
    "# Plotting the left-hand %age scores across days for Boris and Arielle\n",
    "plt.figure(figsize=(15,8))\n",
    "plt.plot(rightscore['index'],rightscore['%score_x'],label='Arielle')\n",
    "plt.plot(rightscore['index'],rightscore['%score_y'],'--',label='Boris')\n",
    "plt.title('Player right-hand %age Score across days')\n",
    "plt.xlabel('Day')\n",
    "plt.ylabel('%age Score')\n",
    "plt.legend()\n",
    "plt.show()"
   ]
  },
  {
   "cell_type": "markdown",
   "metadata": {},
   "source": [
    "Boris seems for most of the time better right-hand performance than Arielle"
   ]
  },
  {
   "cell_type": "code",
   "execution_count": 162,
   "metadata": {
    "scrolled": true
   },
   "outputs": [
    {
     "data": {
      "text/plain": [
       "<Figure size 1440x1080 with 0 Axes>"
      ]
     },
     "metadata": {},
     "output_type": "display_data"
    },
    {
     "data": {
      "image/png": "[encoded data removed]",
      "text/plain": [
       "<Figure size 432x288 with 1 Axes>"
      ]
     },
     "metadata": {
      "needs_background": "light"
     },
     "output_type": "display_data"
    }
   ],
   "source": [
    "plt.figure(figsize=(20,15))\n",
    "paypal_data.boxplot(column = '%score',by='name',meanline=True, showmeans=True, showcaps=True, \n",
    "            showbox=True, showfliers=False, return_type='axes')\n",
    "plt.show()"
   ]
  },
  {
   "cell_type": "code",
   "execution_count": 163,
   "metadata": {},
   "outputs": [],
   "source": [
    "paypal_agg = paypal_data.loc[:,('name','hand','score','attempts')].groupby(by=['name','hand'],axis=0).sum()"
   ]
  },
  {
   "cell_type": "code",
   "execution_count": 164,
   "metadata": {},
   "outputs": [
    {
     "data": {
      "text/html": [
       "<div>\n",
       "<style scoped>\n",
       "    .dataframe tbody tr th:only-of-type {\n",
       "        vertical-align: middle;\n",
       "    }\n",
       "\n",
       "    .dataframe tbody tr th {\n",
       "        vertical-align: top;\n",
       "    }\n",
       "\n",
       "    .dataframe thead th {\n",
       "        text-align: right;\n",
       "    }\n",
       "</style>\n",
       "<table border=\"1\" class=\"dataframe\">\n",
       "  <thead>\n",
       "    <tr style=\"text-align: right;\">\n",
       "      <th></th>\n",
       "      <th>name</th>\n",
       "      <th>hand</th>\n",
       "      <th>score</th>\n",
       "      <th>attempts</th>\n",
       "    </tr>\n",
       "  </thead>\n",
       "  <tbody>\n",
       "    <tr>\n",
       "      <th>0</th>\n",
       "      <td>Arielle</td>\n",
       "      <td>L</td>\n",
       "      <td>72</td>\n",
       "      <td>300</td>\n",
       "    </tr>\n",
       "    <tr>\n",
       "      <th>1</th>\n",
       "      <td>Arielle</td>\n",
       "      <td>R</td>\n",
       "      <td>269</td>\n",
       "      <td>700</td>\n",
       "    </tr>\n",
       "    <tr>\n",
       "      <th>2</th>\n",
       "      <td>Boris</td>\n",
       "      <td>L</td>\n",
       "      <td>199</td>\n",
       "      <td>700</td>\n",
       "    </tr>\n",
       "    <tr>\n",
       "      <th>3</th>\n",
       "      <td>Boris</td>\n",
       "      <td>R</td>\n",
       "      <td>139</td>\n",
       "      <td>300</td>\n",
       "    </tr>\n",
       "  </tbody>\n",
       "</table>\n",
       "</div>"
      ],
      "text/plain": [
       "      name hand  score  attempts\n",
       "0  Arielle    L     72       300\n",
       "1  Arielle    R    269       700\n",
       "2    Boris    L    199       700\n",
       "3    Boris    R    139       300"
      ]
     },
     "execution_count": 164,
     "metadata": {},
     "output_type": "execute_result"
    }
   ],
   "source": [
    "paypal_agg.reset_index()"
   ]
  },
  {
   "cell_type": "code",
   "execution_count": 165,
   "metadata": {},
   "outputs": [],
   "source": [
    "paypal_count = paypal_data.loc[:,('name','hand','match_day')].groupby(by=['name','hand'],axis=0).count().reset_index()"
   ]
  },
  {
   "cell_type": "code",
   "execution_count": 166,
   "metadata": {},
   "outputs": [
    {
     "data": {
      "text/html": [
       "<div>\n",
       "<style scoped>\n",
       "    .dataframe tbody tr th:only-of-type {\n",
       "        vertical-align: middle;\n",
       "    }\n",
       "\n",
       "    .dataframe tbody tr th {\n",
       "        vertical-align: top;\n",
       "    }\n",
       "\n",
       "    .dataframe thead th {\n",
       "        text-align: right;\n",
       "    }\n",
       "</style>\n",
       "<table border=\"1\" class=\"dataframe\">\n",
       "  <thead>\n",
       "    <tr style=\"text-align: right;\">\n",
       "      <th></th>\n",
       "      <th>name</th>\n",
       "      <th>hand</th>\n",
       "      <th>match_day</th>\n",
       "    </tr>\n",
       "  </thead>\n",
       "  <tbody>\n",
       "    <tr>\n",
       "      <th>0</th>\n",
       "      <td>Arielle</td>\n",
       "      <td>L</td>\n",
       "      <td>15</td>\n",
       "    </tr>\n",
       "    <tr>\n",
       "      <th>1</th>\n",
       "      <td>Arielle</td>\n",
       "      <td>R</td>\n",
       "      <td>35</td>\n",
       "    </tr>\n",
       "    <tr>\n",
       "      <th>2</th>\n",
       "      <td>Boris</td>\n",
       "      <td>L</td>\n",
       "      <td>35</td>\n",
       "    </tr>\n",
       "    <tr>\n",
       "      <th>3</th>\n",
       "      <td>Boris</td>\n",
       "      <td>R</td>\n",
       "      <td>15</td>\n",
       "    </tr>\n",
       "  </tbody>\n",
       "</table>\n",
       "</div>"
      ],
      "text/plain": [
       "      name hand  match_day\n",
       "0  Arielle    L         15\n",
       "1  Arielle    R         35\n",
       "2    Boris    L         35\n",
       "3    Boris    R         15"
      ]
     },
     "execution_count": 166,
     "metadata": {},
     "output_type": "execute_result"
    }
   ],
   "source": [
    "paypal_count"
   ]
  },
  {
   "cell_type": "code",
   "execution_count": 167,
   "metadata": {},
   "outputs": [],
   "source": [
    "paypal_count.rename(columns = {'match_day':'day_count'}, inplace = True)"
   ]
  },
  {
   "cell_type": "code",
   "execution_count": 168,
   "metadata": {},
   "outputs": [
    {
     "data": {
      "text/html": [
       "<div>\n",
       "<style scoped>\n",
       "    .dataframe tbody tr th:only-of-type {\n",
       "        vertical-align: middle;\n",
       "    }\n",
       "\n",
       "    .dataframe tbody tr th {\n",
       "        vertical-align: top;\n",
       "    }\n",
       "\n",
       "    .dataframe thead th {\n",
       "        text-align: right;\n",
       "    }\n",
       "</style>\n",
       "<table border=\"1\" class=\"dataframe\">\n",
       "  <thead>\n",
       "    <tr style=\"text-align: right;\">\n",
       "      <th></th>\n",
       "      <th>name</th>\n",
       "      <th>hand</th>\n",
       "      <th>day_count</th>\n",
       "    </tr>\n",
       "  </thead>\n",
       "  <tbody>\n",
       "    <tr>\n",
       "      <th>0</th>\n",
       "      <td>Arielle</td>\n",
       "      <td>L</td>\n",
       "      <td>15</td>\n",
       "    </tr>\n",
       "    <tr>\n",
       "      <th>1</th>\n",
       "      <td>Arielle</td>\n",
       "      <td>R</td>\n",
       "      <td>35</td>\n",
       "    </tr>\n",
       "    <tr>\n",
       "      <th>2</th>\n",
       "      <td>Boris</td>\n",
       "      <td>L</td>\n",
       "      <td>35</td>\n",
       "    </tr>\n",
       "    <tr>\n",
       "      <th>3</th>\n",
       "      <td>Boris</td>\n",
       "      <td>R</td>\n",
       "      <td>15</td>\n",
       "    </tr>\n",
       "  </tbody>\n",
       "</table>\n",
       "</div>"
      ],
      "text/plain": [
       "      name hand  day_count\n",
       "0  Arielle    L         15\n",
       "1  Arielle    R         35\n",
       "2    Boris    L         35\n",
       "3    Boris    R         15"
      ]
     },
     "execution_count": 168,
     "metadata": {},
     "output_type": "execute_result"
    }
   ],
   "source": [
    "paypal_count"
   ]
  },
  {
   "cell_type": "code",
   "execution_count": 169,
   "metadata": {},
   "outputs": [],
   "source": [
    "paypal_agg = paypal_agg.merge(paypal_count, left_on=['name','hand'], right_on=['name','hand'])"
   ]
  },
  {
   "cell_type": "code",
   "execution_count": 170,
   "metadata": {},
   "outputs": [],
   "source": [
    "paypal_agg['%score'] = round((paypal_agg['score']/paypal_agg['attempts'])*100,2)"
   ]
  },
  {
   "cell_type": "code",
   "execution_count": 171,
   "metadata": {},
   "outputs": [
    {
     "data": {
      "text/html": [
       "<div>\n",
       "<style scoped>\n",
       "    .dataframe tbody tr th:only-of-type {\n",
       "        vertical-align: middle;\n",
       "    }\n",
       "\n",
       "    .dataframe tbody tr th {\n",
       "        vertical-align: top;\n",
       "    }\n",
       "\n",
       "    .dataframe thead th {\n",
       "        text-align: right;\n",
       "    }\n",
       "</style>\n",
       "<table border=\"1\" class=\"dataframe\">\n",
       "  <thead>\n",
       "    <tr style=\"text-align: right;\">\n",
       "      <th></th>\n",
       "      <th>name</th>\n",
       "      <th>hand</th>\n",
       "      <th>score</th>\n",
       "      <th>attempts</th>\n",
       "      <th>day_count</th>\n",
       "      <th>%score</th>\n",
       "    </tr>\n",
       "  </thead>\n",
       "  <tbody>\n",
       "    <tr>\n",
       "      <th>0</th>\n",
       "      <td>Arielle</td>\n",
       "      <td>L</td>\n",
       "      <td>72</td>\n",
       "      <td>300</td>\n",
       "      <td>15</td>\n",
       "      <td>24.00</td>\n",
       "    </tr>\n",
       "    <tr>\n",
       "      <th>1</th>\n",
       "      <td>Arielle</td>\n",
       "      <td>R</td>\n",
       "      <td>269</td>\n",
       "      <td>700</td>\n",
       "      <td>35</td>\n",
       "      <td>38.43</td>\n",
       "    </tr>\n",
       "    <tr>\n",
       "      <th>2</th>\n",
       "      <td>Boris</td>\n",
       "      <td>L</td>\n",
       "      <td>199</td>\n",
       "      <td>700</td>\n",
       "      <td>35</td>\n",
       "      <td>28.43</td>\n",
       "    </tr>\n",
       "    <tr>\n",
       "      <th>3</th>\n",
       "      <td>Boris</td>\n",
       "      <td>R</td>\n",
       "      <td>139</td>\n",
       "      <td>300</td>\n",
       "      <td>15</td>\n",
       "      <td>46.33</td>\n",
       "    </tr>\n",
       "  </tbody>\n",
       "</table>\n",
       "</div>"
      ],
      "text/plain": [
       "      name hand  score  attempts  day_count  %score\n",
       "0  Arielle    L     72       300         15   24.00\n",
       "1  Arielle    R    269       700         35   38.43\n",
       "2    Boris    L    199       700         35   28.43\n",
       "3    Boris    R    139       300         15   46.33"
      ]
     },
     "execution_count": 171,
     "metadata": {},
     "output_type": "execute_result"
    }
   ],
   "source": [
    "# Calculating player & hand-wise performance\n",
    "paypal_agg"
   ]
  },
  {
   "cell_type": "markdown",
   "metadata": {},
   "source": [
    "#### 2. Checking for the preferred hand & handedness (dominant hand) of both the players"
   ]
  },
  {
   "cell_type": "markdown",
   "metadata": {},
   "source": [
    "###### a) Preferred or Most-used hand"
   ]
  },
  {
   "cell_type": "code",
   "execution_count": 249,
   "metadata": {},
   "outputs": [],
   "source": [
    "paypal_count_max = paypal_agg.loc[:,('name','day_count')].groupby(by=['name']).max().reset_index()"
   ]
  },
  {
   "cell_type": "code",
   "execution_count": 250,
   "metadata": {},
   "outputs": [
    {
     "data": {
      "text/html": [
       "<div>\n",
       "<style scoped>\n",
       "    .dataframe tbody tr th:only-of-type {\n",
       "        vertical-align: middle;\n",
       "    }\n",
       "\n",
       "    .dataframe tbody tr th {\n",
       "        vertical-align: top;\n",
       "    }\n",
       "\n",
       "    .dataframe thead th {\n",
       "        text-align: right;\n",
       "    }\n",
       "</style>\n",
       "<table border=\"1\" class=\"dataframe\">\n",
       "  <thead>\n",
       "    <tr style=\"text-align: right;\">\n",
       "      <th></th>\n",
       "      <th>name</th>\n",
       "      <th>day_count</th>\n",
       "    </tr>\n",
       "  </thead>\n",
       "  <tbody>\n",
       "    <tr>\n",
       "      <th>0</th>\n",
       "      <td>Arielle</td>\n",
       "      <td>35</td>\n",
       "    </tr>\n",
       "    <tr>\n",
       "      <th>1</th>\n",
       "      <td>Boris</td>\n",
       "      <td>35</td>\n",
       "    </tr>\n",
       "  </tbody>\n",
       "</table>\n",
       "</div>"
      ],
      "text/plain": [
       "      name  day_count\n",
       "0  Arielle         35\n",
       "1    Boris         35"
      ]
     },
     "execution_count": 250,
     "metadata": {},
     "output_type": "execute_result"
    }
   ],
   "source": [
    "paypal_count_max"
   ]
  },
  {
   "cell_type": "code",
   "execution_count": 251,
   "metadata": {},
   "outputs": [
    {
     "data": {
      "text/html": [
       "<div>\n",
       "<style scoped>\n",
       "    .dataframe tbody tr th:only-of-type {\n",
       "        vertical-align: middle;\n",
       "    }\n",
       "\n",
       "    .dataframe tbody tr th {\n",
       "        vertical-align: top;\n",
       "    }\n",
       "\n",
       "    .dataframe thead th {\n",
       "        text-align: right;\n",
       "    }\n",
       "</style>\n",
       "<table border=\"1\" class=\"dataframe\">\n",
       "  <thead>\n",
       "    <tr style=\"text-align: right;\">\n",
       "      <th></th>\n",
       "      <th>name</th>\n",
       "      <th>hand</th>\n",
       "    </tr>\n",
       "  </thead>\n",
       "  <tbody>\n",
       "    <tr>\n",
       "      <th>1</th>\n",
       "      <td>Arielle</td>\n",
       "      <td>R</td>\n",
       "    </tr>\n",
       "    <tr>\n",
       "      <th>2</th>\n",
       "      <td>Boris</td>\n",
       "      <td>L</td>\n",
       "    </tr>\n",
       "  </tbody>\n",
       "</table>\n",
       "</div>"
      ],
      "text/plain": [
       "      name hand\n",
       "1  Arielle    R\n",
       "2    Boris    L"
      ]
     },
     "execution_count": 251,
     "metadata": {},
     "output_type": "execute_result"
    }
   ],
   "source": [
    "# Finding out the hand most used by each player\n",
    "paypal_agg.loc[paypal_agg['day_count']==35,('name','hand')]"
   ]
  },
  {
   "cell_type": "markdown",
   "metadata": {},
   "source": [
    "Preferred (most-used) hand for the players are:\n",
    "\n",
    "- Arielle - Right hand\n",
    "\n",
    "- Boris - Left hand"
   ]
  },
  {
   "cell_type": "markdown",
   "metadata": {},
   "source": [
    "##### b) Checking for the dominant hand or handedness of both the players i.e., the hand with which they have better performance"
   ]
  },
  {
   "cell_type": "code",
   "execution_count": 252,
   "metadata": {},
   "outputs": [],
   "source": [
    "paypal_count_max = paypal_agg.loc[:,('name','%score')].groupby(by=['name']).max().reset_index()"
   ]
  },
  {
   "cell_type": "code",
   "execution_count": 253,
   "metadata": {},
   "outputs": [
    {
     "data": {
      "text/plain": [
       "38.43"
      ]
     },
     "execution_count": 253,
     "metadata": {},
     "output_type": "execute_result"
    }
   ],
   "source": [
    "list(paypal_count_max['%score'])[0]"
   ]
  },
  {
   "cell_type": "code",
   "execution_count": 254,
   "metadata": {},
   "outputs": [
    {
     "data": {
      "text/html": [
       "<div>\n",
       "<style scoped>\n",
       "    .dataframe tbody tr th:only-of-type {\n",
       "        vertical-align: middle;\n",
       "    }\n",
       "\n",
       "    .dataframe tbody tr th {\n",
       "        vertical-align: top;\n",
       "    }\n",
       "\n",
       "    .dataframe thead th {\n",
       "        text-align: right;\n",
       "    }\n",
       "</style>\n",
       "<table border=\"1\" class=\"dataframe\">\n",
       "  <thead>\n",
       "    <tr style=\"text-align: right;\">\n",
       "      <th></th>\n",
       "      <th>name</th>\n",
       "      <th>hand</th>\n",
       "    </tr>\n",
       "  </thead>\n",
       "  <tbody>\n",
       "    <tr>\n",
       "      <th>1</th>\n",
       "      <td>Arielle</td>\n",
       "      <td>R</td>\n",
       "    </tr>\n",
       "  </tbody>\n",
       "</table>\n",
       "</div>"
      ],
      "text/plain": [
       "      name hand\n",
       "1  Arielle    R"
      ]
     },
     "execution_count": 254,
     "metadata": {},
     "output_type": "execute_result"
    }
   ],
   "source": [
    "# Finding out the dominant hand for Arielle\n",
    "paypal_agg.loc[paypal_agg['%score'] == list(paypal_count_max['%score'])[0],('name','hand')]"
   ]
  },
  {
   "cell_type": "code",
   "execution_count": 255,
   "metadata": {},
   "outputs": [
    {
     "data": {
      "text/html": [
       "<div>\n",
       "<style scoped>\n",
       "    .dataframe tbody tr th:only-of-type {\n",
       "        vertical-align: middle;\n",
       "    }\n",
       "\n",
       "    .dataframe tbody tr th {\n",
       "        vertical-align: top;\n",
       "    }\n",
       "\n",
       "    .dataframe thead th {\n",
       "        text-align: right;\n",
       "    }\n",
       "</style>\n",
       "<table border=\"1\" class=\"dataframe\">\n",
       "  <thead>\n",
       "    <tr style=\"text-align: right;\">\n",
       "      <th></th>\n",
       "      <th>name</th>\n",
       "      <th>hand</th>\n",
       "    </tr>\n",
       "  </thead>\n",
       "  <tbody>\n",
       "    <tr>\n",
       "      <th>3</th>\n",
       "      <td>Boris</td>\n",
       "      <td>R</td>\n",
       "    </tr>\n",
       "  </tbody>\n",
       "</table>\n",
       "</div>"
      ],
      "text/plain": [
       "    name hand\n",
       "3  Boris    R"
      ]
     },
     "execution_count": 255,
     "metadata": {},
     "output_type": "execute_result"
    }
   ],
   "source": [
    "# Finding out the dominant hand for Boris\n",
    "paypal_agg.loc[paypal_agg['%score'] == list(paypal_count_max['%score'])[1],('name','hand')]"
   ]
  },
  {
   "cell_type": "markdown",
   "metadata": {},
   "source": [
    "Dominant hand for the players are:\n",
    "\n",
    "- Arielle - Right hand\n",
    "\n",
    "- Boris - Right hand"
   ]
  },
  {
   "cell_type": "markdown",
   "metadata": {},
   "source": [
    "__Observation:__ Arielle seems to be using her dominant hand i.e., Right, but Boris is mainly using his lef-hand which is not the dominant hand for him\n",
    "\n",
    "__Conclusion:__ Arielle seems to be using her dominant hand but Boris is experimenting or trying to improve his performance with his weaker hand"
   ]
  },
  {
   "cell_type": "markdown",
   "metadata": {},
   "source": [
    "#### 3. Analyse the overall player performance"
   ]
  },
  {
   "cell_type": "code",
   "execution_count": 179,
   "metadata": {},
   "outputs": [],
   "source": [
    "paypal_name = paypal_agg.groupby(by='name').sum().reset_index()"
   ]
  },
  {
   "cell_type": "code",
   "execution_count": 180,
   "metadata": {},
   "outputs": [],
   "source": [
    "paypal_name['%score'] = (paypal_name['score']/paypal_name['attempts'])*100"
   ]
  },
  {
   "cell_type": "code",
   "execution_count": 181,
   "metadata": {},
   "outputs": [
    {
     "data": {
      "text/html": [
       "<div>\n",
       "<style scoped>\n",
       "    .dataframe tbody tr th:only-of-type {\n",
       "        vertical-align: middle;\n",
       "    }\n",
       "\n",
       "    .dataframe tbody tr th {\n",
       "        vertical-align: top;\n",
       "    }\n",
       "\n",
       "    .dataframe thead th {\n",
       "        text-align: right;\n",
       "    }\n",
       "</style>\n",
       "<table border=\"1\" class=\"dataframe\">\n",
       "  <thead>\n",
       "    <tr style=\"text-align: right;\">\n",
       "      <th></th>\n",
       "      <th>name</th>\n",
       "      <th>score</th>\n",
       "      <th>attempts</th>\n",
       "      <th>day_count</th>\n",
       "      <th>%score</th>\n",
       "    </tr>\n",
       "  </thead>\n",
       "  <tbody>\n",
       "    <tr>\n",
       "      <th>0</th>\n",
       "      <td>Arielle</td>\n",
       "      <td>341</td>\n",
       "      <td>1000</td>\n",
       "      <td>50</td>\n",
       "      <td>34.1</td>\n",
       "    </tr>\n",
       "    <tr>\n",
       "      <th>1</th>\n",
       "      <td>Boris</td>\n",
       "      <td>338</td>\n",
       "      <td>1000</td>\n",
       "      <td>50</td>\n",
       "      <td>33.8</td>\n",
       "    </tr>\n",
       "  </tbody>\n",
       "</table>\n",
       "</div>"
      ],
      "text/plain": [
       "      name  score  attempts  day_count  %score\n",
       "0  Arielle    341      1000         50    34.1\n",
       "1    Boris    338      1000         50    33.8"
      ]
     },
     "execution_count": 181,
     "metadata": {},
     "output_type": "execute_result"
    }
   ],
   "source": [
    "paypal_name"
   ]
  },
  {
   "cell_type": "code",
   "execution_count": 182,
   "metadata": {},
   "outputs": [
    {
     "name": "stdout",
     "output_type": "stream",
     "text": [
      "Arielle has a score of: 34.1 that is higher than score of Boris: 33.8 by 0.3\n"
     ]
    }
   ],
   "source": [
    "print('Arielle has a score of: {0} that is higher than score of Boris: {1} by {2}'.format(paypal_name.loc[0,'%score'],round(paypal_name.loc[1,'%score'],2),round(paypal_name.loc[0,'%score']-paypal_name.loc[1,'%score'],2)))"
   ]
  },
  {
   "cell_type": "markdown",
   "metadata": {},
   "source": [
    "From this it seems Arielle score is marginally higher than that of Boris"
   ]
  },
  {
   "cell_type": "markdown",
   "metadata": {},
   "source": [
    "__Hypothesis testing to check if Boris & Arielle have different overall performance__\n",
    "\n",
    "__H0:__ Boris overall score = Arielle overall score\n",
    "\n",
    "__Ha:__ Boris overall score != Arielle overall score"
   ]
  },
  {
   "cell_type": "markdown",
   "metadata": {},
   "source": [
    "Since we don't know the population statistics we will assume unequal variance"
   ]
  },
  {
   "cell_type": "code",
   "execution_count": 183,
   "metadata": {},
   "outputs": [
    {
     "data": {
      "text/plain": [
       "Ttest_indResult(statistic=0.1175313817037819, pvalue=0.9066804548784895)"
      ]
     },
     "execution_count": 183,
     "metadata": {},
     "output_type": "execute_result"
    }
   ],
   "source": [
    "#perform two sample t-test with unequal variances\n",
    "stats.ttest_ind(a=arielle_data['%score'], b=boris_data['%score'], equal_var=False)"
   ]
  },
  {
   "cell_type": "markdown",
   "metadata": {},
   "source": [
    "As p-value (0.9066)>0.05, We cannot reject the null-hypothesis, hence it seems Boris and Arielle have same overall score/performance"
   ]
  },
  {
   "cell_type": "markdown",
   "metadata": {},
   "source": [
    "#### 4. Analyse the hand-wise player performance"
   ]
  },
  {
   "cell_type": "markdown",
   "metadata": {},
   "source": [
    "##### a) Let's first analyse the left-hand performance of the players"
   ]
  },
  {
   "cell_type": "code",
   "execution_count": 75,
   "metadata": {},
   "outputs": [
    {
     "data": {
      "text/html": [
       "<div>\n",
       "<style scoped>\n",
       "    .dataframe tbody tr th:only-of-type {\n",
       "        vertical-align: middle;\n",
       "    }\n",
       "\n",
       "    .dataframe tbody tr th {\n",
       "        vertical-align: top;\n",
       "    }\n",
       "\n",
       "    .dataframe thead th {\n",
       "        text-align: right;\n",
       "    }\n",
       "</style>\n",
       "<table border=\"1\" class=\"dataframe\">\n",
       "  <thead>\n",
       "    <tr style=\"text-align: right;\">\n",
       "      <th></th>\n",
       "      <th>name</th>\n",
       "      <th>hand</th>\n",
       "      <th>score</th>\n",
       "      <th>attempts</th>\n",
       "      <th>day_count</th>\n",
       "      <th>%score</th>\n",
       "    </tr>\n",
       "  </thead>\n",
       "  <tbody>\n",
       "    <tr>\n",
       "      <th>0</th>\n",
       "      <td>Arielle</td>\n",
       "      <td>L</td>\n",
       "      <td>72</td>\n",
       "      <td>300</td>\n",
       "      <td>15</td>\n",
       "      <td>24.00</td>\n",
       "    </tr>\n",
       "    <tr>\n",
       "      <th>1</th>\n",
       "      <td>Arielle</td>\n",
       "      <td>R</td>\n",
       "      <td>269</td>\n",
       "      <td>700</td>\n",
       "      <td>35</td>\n",
       "      <td>38.43</td>\n",
       "    </tr>\n",
       "    <tr>\n",
       "      <th>2</th>\n",
       "      <td>Boris</td>\n",
       "      <td>L</td>\n",
       "      <td>199</td>\n",
       "      <td>700</td>\n",
       "      <td>35</td>\n",
       "      <td>28.43</td>\n",
       "    </tr>\n",
       "    <tr>\n",
       "      <th>3</th>\n",
       "      <td>Boris</td>\n",
       "      <td>R</td>\n",
       "      <td>139</td>\n",
       "      <td>300</td>\n",
       "      <td>15</td>\n",
       "      <td>46.33</td>\n",
       "    </tr>\n",
       "  </tbody>\n",
       "</table>\n",
       "</div>"
      ],
      "text/plain": [
       "      name hand  score  attempts  day_count  %score\n",
       "0  Arielle    L     72       300         15   24.00\n",
       "1  Arielle    R    269       700         35   38.43\n",
       "2    Boris    L    199       700         35   28.43\n",
       "3    Boris    R    139       300         15   46.33"
      ]
     },
     "execution_count": 75,
     "metadata": {},
     "output_type": "execute_result"
    }
   ],
   "source": [
    "paypal_agg"
   ]
  },
  {
   "cell_type": "code",
   "execution_count": 85,
   "metadata": {},
   "outputs": [],
   "source": [
    "paypal_left = paypal_agg.loc[paypal_agg['hand']==\"L\",:].reset_index(drop=True)"
   ]
  },
  {
   "cell_type": "code",
   "execution_count": 86,
   "metadata": {},
   "outputs": [
    {
     "data": {
      "text/html": [
       "<div>\n",
       "<style scoped>\n",
       "    .dataframe tbody tr th:only-of-type {\n",
       "        vertical-align: middle;\n",
       "    }\n",
       "\n",
       "    .dataframe tbody tr th {\n",
       "        vertical-align: top;\n",
       "    }\n",
       "\n",
       "    .dataframe thead th {\n",
       "        text-align: right;\n",
       "    }\n",
       "</style>\n",
       "<table border=\"1\" class=\"dataframe\">\n",
       "  <thead>\n",
       "    <tr style=\"text-align: right;\">\n",
       "      <th></th>\n",
       "      <th>name</th>\n",
       "      <th>hand</th>\n",
       "      <th>score</th>\n",
       "      <th>attempts</th>\n",
       "      <th>day_count</th>\n",
       "      <th>%score</th>\n",
       "    </tr>\n",
       "  </thead>\n",
       "  <tbody>\n",
       "    <tr>\n",
       "      <th>0</th>\n",
       "      <td>Arielle</td>\n",
       "      <td>L</td>\n",
       "      <td>72</td>\n",
       "      <td>300</td>\n",
       "      <td>15</td>\n",
       "      <td>24.00</td>\n",
       "    </tr>\n",
       "    <tr>\n",
       "      <th>1</th>\n",
       "      <td>Boris</td>\n",
       "      <td>L</td>\n",
       "      <td>199</td>\n",
       "      <td>700</td>\n",
       "      <td>35</td>\n",
       "      <td>28.43</td>\n",
       "    </tr>\n",
       "  </tbody>\n",
       "</table>\n",
       "</div>"
      ],
      "text/plain": [
       "      name hand  score  attempts  day_count  %score\n",
       "0  Arielle    L     72       300         15   24.00\n",
       "1    Boris    L    199       700         35   28.43"
      ]
     },
     "execution_count": 86,
     "metadata": {},
     "output_type": "execute_result"
    }
   ],
   "source": [
    "paypal_left"
   ]
  },
  {
   "cell_type": "code",
   "execution_count": 87,
   "metadata": {},
   "outputs": [
    {
     "data": {
      "text/plain": [
       "<Figure size 1440x1080 with 0 Axes>"
      ]
     },
     "metadata": {},
     "output_type": "display_data"
    },
    {
     "data": {
      "image/png": "[encoded data removed]",
      "text/plain": [
       "<Figure size 432x288 with 1 Axes>"
      ]
     },
     "metadata": {
      "needs_background": "light"
     },
     "output_type": "display_data"
    }
   ],
   "source": [
    "plt.figure(figsize=(20,15))\n",
    "paypal_data.loc[paypal_data['hand']=='L',:].boxplot(column = '%score',by='name',meanline=True, showmeans=True, showcaps=True, \n",
    "            showbox=True, showfliers=False, return_type='axes')\n",
    "plt.show()"
   ]
  },
  {
   "cell_type": "code",
   "execution_count": 88,
   "metadata": {},
   "outputs": [
    {
     "name": "stdout",
     "output_type": "stream",
     "text": [
      "Boris has a score of: 28.43 that is higher than score of Arielle: 24.0 by 4.43\n"
     ]
    }
   ],
   "source": [
    "print('Boris has a score of: {0} that is higher than score of Arielle: {1} by {2}'.format(paypal_left.loc[1,'%score'],round(paypal_left.loc[0,'%score'],2),round(paypal_left.loc[1,'%score']-paypal_left.loc[0,'%score'],2)))"
   ]
  },
  {
   "cell_type": "markdown",
   "metadata": {},
   "source": [
    "From this it seems Boris has better left-hand performance than Arielle"
   ]
  },
  {
   "cell_type": "markdown",
   "metadata": {},
   "source": [
    "__Hypothesis testing to check if Boris has better left-hand score than Arielle__\n",
    "\n",
    "__H0:__ Boris score = Arielle score\n",
    "\n",
    "__Ha:__ Boris score != Arielle score"
   ]
  },
  {
   "cell_type": "code",
   "execution_count": 256,
   "metadata": {},
   "outputs": [],
   "source": [
    "#perform two sample t-test with unequal variances\n",
    "t_stat,pvalue = stats.ttest_ind(a=list(boris_data.loc[boris_data['hand']=='L','%score']),b=list(arielle_data.loc[arielle_data['hand']=='L','%score']), equal_var=False)"
   ]
  },
  {
   "cell_type": "code",
   "execution_count": 257,
   "metadata": {},
   "outputs": [
    {
     "data": {
      "text/plain": [
       "1.3768115824020626"
      ]
     },
     "execution_count": 257,
     "metadata": {},
     "output_type": "execute_result"
    }
   ],
   "source": [
    "t_stat"
   ]
  },
  {
   "cell_type": "code",
   "execution_count": 258,
   "metadata": {},
   "outputs": [
    {
     "data": {
      "text/plain": [
       "0.08969536040204802"
      ]
     },
     "execution_count": 258,
     "metadata": {},
     "output_type": "execute_result"
    }
   ],
   "source": [
    "pvalue/2"
   ]
  },
  {
   "cell_type": "markdown",
   "metadata": {},
   "source": [
    "As p-value (0.089)>0.05, We cannot reject the null-hypothesis, hence it seems Boris and Arielle have same left-hand score/performance"
   ]
  },
  {
   "cell_type": "markdown",
   "metadata": {},
   "source": [
    "##### b) Let's now analyse the right-hand performance of the players"
   ]
  },
  {
   "cell_type": "code",
   "execution_count": 259,
   "metadata": {},
   "outputs": [
    {
     "data": {
      "text/html": [
       "<div>\n",
       "<style scoped>\n",
       "    .dataframe tbody tr th:only-of-type {\n",
       "        vertical-align: middle;\n",
       "    }\n",
       "\n",
       "    .dataframe tbody tr th {\n",
       "        vertical-align: top;\n",
       "    }\n",
       "\n",
       "    .dataframe thead th {\n",
       "        text-align: right;\n",
       "    }\n",
       "</style>\n",
       "<table border=\"1\" class=\"dataframe\">\n",
       "  <thead>\n",
       "    <tr style=\"text-align: right;\">\n",
       "      <th></th>\n",
       "      <th>name</th>\n",
       "      <th>hand</th>\n",
       "      <th>score</th>\n",
       "      <th>attempts</th>\n",
       "      <th>day_count</th>\n",
       "      <th>%score</th>\n",
       "    </tr>\n",
       "  </thead>\n",
       "  <tbody>\n",
       "    <tr>\n",
       "      <th>0</th>\n",
       "      <td>Arielle</td>\n",
       "      <td>L</td>\n",
       "      <td>72</td>\n",
       "      <td>300</td>\n",
       "      <td>15</td>\n",
       "      <td>24.00</td>\n",
       "    </tr>\n",
       "    <tr>\n",
       "      <th>1</th>\n",
       "      <td>Arielle</td>\n",
       "      <td>R</td>\n",
       "      <td>269</td>\n",
       "      <td>700</td>\n",
       "      <td>35</td>\n",
       "      <td>38.43</td>\n",
       "    </tr>\n",
       "    <tr>\n",
       "      <th>2</th>\n",
       "      <td>Boris</td>\n",
       "      <td>L</td>\n",
       "      <td>199</td>\n",
       "      <td>700</td>\n",
       "      <td>35</td>\n",
       "      <td>28.43</td>\n",
       "    </tr>\n",
       "    <tr>\n",
       "      <th>3</th>\n",
       "      <td>Boris</td>\n",
       "      <td>R</td>\n",
       "      <td>139</td>\n",
       "      <td>300</td>\n",
       "      <td>15</td>\n",
       "      <td>46.33</td>\n",
       "    </tr>\n",
       "  </tbody>\n",
       "</table>\n",
       "</div>"
      ],
      "text/plain": [
       "      name hand  score  attempts  day_count  %score\n",
       "0  Arielle    L     72       300         15   24.00\n",
       "1  Arielle    R    269       700         35   38.43\n",
       "2    Boris    L    199       700         35   28.43\n",
       "3    Boris    R    139       300         15   46.33"
      ]
     },
     "execution_count": 259,
     "metadata": {},
     "output_type": "execute_result"
    }
   ],
   "source": [
    "paypal_agg"
   ]
  },
  {
   "cell_type": "code",
   "execution_count": 260,
   "metadata": {},
   "outputs": [],
   "source": [
    "paypal_right = paypal_agg.loc[paypal_agg['hand']==\"R\",:].reset_index(drop=True)"
   ]
  },
  {
   "cell_type": "code",
   "execution_count": 261,
   "metadata": {},
   "outputs": [
    {
     "data": {
      "text/html": [
       "<div>\n",
       "<style scoped>\n",
       "    .dataframe tbody tr th:only-of-type {\n",
       "        vertical-align: middle;\n",
       "    }\n",
       "\n",
       "    .dataframe tbody tr th {\n",
       "        vertical-align: top;\n",
       "    }\n",
       "\n",
       "    .dataframe thead th {\n",
       "        text-align: right;\n",
       "    }\n",
       "</style>\n",
       "<table border=\"1\" class=\"dataframe\">\n",
       "  <thead>\n",
       "    <tr style=\"text-align: right;\">\n",
       "      <th></th>\n",
       "      <th>name</th>\n",
       "      <th>hand</th>\n",
       "      <th>score</th>\n",
       "      <th>attempts</th>\n",
       "      <th>day_count</th>\n",
       "      <th>%score</th>\n",
       "    </tr>\n",
       "  </thead>\n",
       "  <tbody>\n",
       "    <tr>\n",
       "      <th>0</th>\n",
       "      <td>Arielle</td>\n",
       "      <td>R</td>\n",
       "      <td>269</td>\n",
       "      <td>700</td>\n",
       "      <td>35</td>\n",
       "      <td>38.43</td>\n",
       "    </tr>\n",
       "    <tr>\n",
       "      <th>1</th>\n",
       "      <td>Boris</td>\n",
       "      <td>R</td>\n",
       "      <td>139</td>\n",
       "      <td>300</td>\n",
       "      <td>15</td>\n",
       "      <td>46.33</td>\n",
       "    </tr>\n",
       "  </tbody>\n",
       "</table>\n",
       "</div>"
      ],
      "text/plain": [
       "      name hand  score  attempts  day_count  %score\n",
       "0  Arielle    R    269       700         35   38.43\n",
       "1    Boris    R    139       300         15   46.33"
      ]
     },
     "execution_count": 261,
     "metadata": {},
     "output_type": "execute_result"
    }
   ],
   "source": [
    "paypal_right"
   ]
  },
  {
   "cell_type": "code",
   "execution_count": 262,
   "metadata": {},
   "outputs": [
    {
     "data": {
      "text/plain": [
       "<Figure size 1440x1080 with 0 Axes>"
      ]
     },
     "metadata": {},
     "output_type": "display_data"
    },
    {
     "data": {
      "image/png": "[encoded data removed]",
      "text/plain": [
       "<Figure size 432x288 with 1 Axes>"
      ]
     },
     "metadata": {
      "needs_background": "light"
     },
     "output_type": "display_data"
    }
   ],
   "source": [
    "plt.figure(figsize=(20,15))\n",
    "paypal_data.loc[paypal_data['hand']=='R',:].boxplot(column = '%score',by='name',meanline=True, showmeans=True, showcaps=True, \n",
    "            showbox=True, showfliers=False, return_type='axes')\n",
    "plt.ylabel('%age Score')\n",
    "plt.show()"
   ]
  },
  {
   "cell_type": "code",
   "execution_count": 263,
   "metadata": {},
   "outputs": [
    {
     "name": "stdout",
     "output_type": "stream",
     "text": [
      "Boris has a right hand score of: 46.33 that is higher than score of Arielle: 38.43 by 7.9\n"
     ]
    }
   ],
   "source": [
    "print('Boris has a right hand score of: {0} that is higher than score of Arielle: {1} by {2}'.format(paypal_right.loc[1,'%score'],round(paypal_right.loc[0,'%score'],2),round(paypal_right.loc[1,'%score']-paypal_right.loc[0,'%score'],2)))"
   ]
  },
  {
   "cell_type": "markdown",
   "metadata": {},
   "source": [
    "From this it seems Boris has better left-hand performance than Arielle"
   ]
  },
  {
   "cell_type": "code",
   "execution_count": 265,
   "metadata": {},
   "outputs": [],
   "source": [
    "#perform two sample t-test with unequal variances\n",
    "t_stat,pvalue = stats.ttest_ind(a=list(arielle_data.loc[arielle_data['hand']=='R','%score']), b=list(boris_data.loc[boris_data['hand']=='R','%score']), equal_var=False)"
   ]
  },
  {
   "cell_type": "code",
   "execution_count": 266,
   "metadata": {},
   "outputs": [
    {
     "data": {
      "text/plain": [
       "-2.7377202337358626"
      ]
     },
     "execution_count": 266,
     "metadata": {},
     "output_type": "execute_result"
    }
   ],
   "source": [
    "t_stat"
   ]
  },
  {
   "cell_type": "code",
   "execution_count": 268,
   "metadata": {},
   "outputs": [
    {
     "data": {
      "text/plain": [
       "0.01001878626678504"
      ]
     },
     "execution_count": 268,
     "metadata": {},
     "output_type": "execute_result"
    }
   ],
   "source": [
    "pvalue"
   ]
  },
  {
   "cell_type": "code",
   "execution_count": 267,
   "metadata": {},
   "outputs": [
    {
     "data": {
      "text/plain": [
       "0.00500939313339252"
      ]
     },
     "execution_count": 267,
     "metadata": {},
     "output_type": "execute_result"
    }
   ],
   "source": [
    "pvalue/2"
   ]
  },
  {
   "cell_type": "markdown",
   "metadata": {},
   "source": [
    "As p-value (0.010)<0.05, We can reject the null-hypothesis, hence Arielle and Boris don't have the same right-hand score/performance\n",
    "\n",
    "For Null-hypothesis that Boris-performance>Arielle performance we will have to check value of p-value/2 ie., (0.010018/2)=0.0050009, which is again less than 0.05, hence it seems Boris has better performance on right-hand"
   ]
  },
  {
   "cell_type": "markdown",
   "metadata": {},
   "source": [
    "__Final analysis:__\n",
    "- With the sample presented to us for Arielle and Boris pan-cake flipping performance across 50 days it seems that they have similar performance, ~34%\n",
    "- But when we analyse the data hand-wise we realise:\n",
    "    - Right-hand: Boris has better right\n",
    "    - Left-hand: Both players have same performance with their left-hand\n",
    "- Since Boris has been using his __left-hand more which isn't his dominant hand__, thus his overall performance has come down because of which both the players have similar score across the 50 days\n",
    "- If Boris starts using his right-hand (dominant-hand) more, he might have better performance than Arielle "
   ]
  },
  {
   "cell_type": "markdown",
   "metadata": {},
   "source": [
    "#### 5. Scenario: Boris starts utilising his dominant hand "
   ]
  },
  {
   "cell_type": "code",
   "execution_count": 117,
   "metadata": {},
   "outputs": [
    {
     "data": {
      "text/html": [
       "<div>\n",
       "<style scoped>\n",
       "    .dataframe tbody tr th:only-of-type {\n",
       "        vertical-align: middle;\n",
       "    }\n",
       "\n",
       "    .dataframe tbody tr th {\n",
       "        vertical-align: top;\n",
       "    }\n",
       "\n",
       "    .dataframe thead th {\n",
       "        text-align: right;\n",
       "    }\n",
       "</style>\n",
       "<table border=\"1\" class=\"dataframe\">\n",
       "  <thead>\n",
       "    <tr style=\"text-align: right;\">\n",
       "      <th></th>\n",
       "      <th>name</th>\n",
       "      <th>hand</th>\n",
       "      <th>score</th>\n",
       "      <th>attempts</th>\n",
       "      <th>day_count</th>\n",
       "      <th>%score</th>\n",
       "    </tr>\n",
       "  </thead>\n",
       "  <tbody>\n",
       "    <tr>\n",
       "      <th>0</th>\n",
       "      <td>Arielle</td>\n",
       "      <td>L</td>\n",
       "      <td>72</td>\n",
       "      <td>300</td>\n",
       "      <td>15</td>\n",
       "      <td>24.00</td>\n",
       "    </tr>\n",
       "    <tr>\n",
       "      <th>1</th>\n",
       "      <td>Arielle</td>\n",
       "      <td>R</td>\n",
       "      <td>269</td>\n",
       "      <td>700</td>\n",
       "      <td>35</td>\n",
       "      <td>38.43</td>\n",
       "    </tr>\n",
       "    <tr>\n",
       "      <th>2</th>\n",
       "      <td>Boris</td>\n",
       "      <td>L</td>\n",
       "      <td>199</td>\n",
       "      <td>700</td>\n",
       "      <td>35</td>\n",
       "      <td>28.43</td>\n",
       "    </tr>\n",
       "    <tr>\n",
       "      <th>3</th>\n",
       "      <td>Boris</td>\n",
       "      <td>R</td>\n",
       "      <td>139</td>\n",
       "      <td>300</td>\n",
       "      <td>15</td>\n",
       "      <td>46.33</td>\n",
       "    </tr>\n",
       "  </tbody>\n",
       "</table>\n",
       "</div>"
      ],
      "text/plain": [
       "      name hand  score  attempts  day_count  %score\n",
       "0  Arielle    L     72       300         15   24.00\n",
       "1  Arielle    R    269       700         35   38.43\n",
       "2    Boris    L    199       700         35   28.43\n",
       "3    Boris    R    139       300         15   46.33"
      ]
     },
     "execution_count": 117,
     "metadata": {},
     "output_type": "execute_result"
    }
   ],
   "source": [
    "paypal_agg"
   ]
  },
  {
   "cell_type": "code",
   "execution_count": 124,
   "metadata": {},
   "outputs": [],
   "source": [
    "boris_data = paypal_agg.loc[paypal_agg['name']=='Boris',:].reset_index(drop=True)"
   ]
  },
  {
   "cell_type": "code",
   "execution_count": 125,
   "metadata": {},
   "outputs": [
    {
     "data": {
      "text/html": [
       "<div>\n",
       "<style scoped>\n",
       "    .dataframe tbody tr th:only-of-type {\n",
       "        vertical-align: middle;\n",
       "    }\n",
       "\n",
       "    .dataframe tbody tr th {\n",
       "        vertical-align: top;\n",
       "    }\n",
       "\n",
       "    .dataframe thead th {\n",
       "        text-align: right;\n",
       "    }\n",
       "</style>\n",
       "<table border=\"1\" class=\"dataframe\">\n",
       "  <thead>\n",
       "    <tr style=\"text-align: right;\">\n",
       "      <th></th>\n",
       "      <th>name</th>\n",
       "      <th>hand</th>\n",
       "      <th>score</th>\n",
       "      <th>attempts</th>\n",
       "      <th>day_count</th>\n",
       "      <th>%score</th>\n",
       "    </tr>\n",
       "  </thead>\n",
       "  <tbody>\n",
       "    <tr>\n",
       "      <th>0</th>\n",
       "      <td>Boris</td>\n",
       "      <td>L</td>\n",
       "      <td>199</td>\n",
       "      <td>700</td>\n",
       "      <td>35</td>\n",
       "      <td>28.43</td>\n",
       "    </tr>\n",
       "    <tr>\n",
       "      <th>1</th>\n",
       "      <td>Boris</td>\n",
       "      <td>R</td>\n",
       "      <td>139</td>\n",
       "      <td>300</td>\n",
       "      <td>15</td>\n",
       "      <td>46.33</td>\n",
       "    </tr>\n",
       "  </tbody>\n",
       "</table>\n",
       "</div>"
      ],
      "text/plain": [
       "    name hand  score  attempts  day_count  %score\n",
       "0  Boris    L    199       700         35   28.43\n",
       "1  Boris    R    139       300         15   46.33"
      ]
     },
     "execution_count": 125,
     "metadata": {},
     "output_type": "execute_result"
    }
   ],
   "source": [
    "boris_data"
   ]
  },
  {
   "cell_type": "code",
   "execution_count": 129,
   "metadata": {},
   "outputs": [],
   "source": [
    "boris_score_new = ((boris_data.loc[0,'day_count']*boris_data.loc[1,'%score'])+(boris_data.loc[1,'day_count']*boris_data.loc[0,'%score']))/(boris_data.loc[0,'day_count']+boris_data.loc[1,'day_count'])"
   ]
  },
  {
   "cell_type": "code",
   "execution_count": 130,
   "metadata": {},
   "outputs": [
    {
     "data": {
      "text/plain": [
       "40.96"
      ]
     },
     "execution_count": 130,
     "metadata": {},
     "output_type": "execute_result"
    }
   ],
   "source": [
    "boris_score_new"
   ]
  },
  {
   "cell_type": "markdown",
   "metadata": {},
   "source": [
    "This is higher than Arielle's score of 34.1 by 6 points"
   ]
  },
  {
   "cell_type": "code",
   "execution_count": 133,
   "metadata": {},
   "outputs": [
    {
     "data": {
      "text/html": [
       "<div>\n",
       "<style scoped>\n",
       "    .dataframe tbody tr th:only-of-type {\n",
       "        vertical-align: middle;\n",
       "    }\n",
       "\n",
       "    .dataframe tbody tr th {\n",
       "        vertical-align: top;\n",
       "    }\n",
       "\n",
       "    .dataframe thead th {\n",
       "        text-align: right;\n",
       "    }\n",
       "</style>\n",
       "<table border=\"1\" class=\"dataframe\">\n",
       "  <thead>\n",
       "    <tr style=\"text-align: right;\">\n",
       "      <th></th>\n",
       "      <th>match_day</th>\n",
       "      <th>name</th>\n",
       "      <th>hand</th>\n",
       "      <th>score</th>\n",
       "      <th>attempts</th>\n",
       "      <th>%score</th>\n",
       "    </tr>\n",
       "  </thead>\n",
       "  <tbody>\n",
       "    <tr>\n",
       "      <th>0</th>\n",
       "      <td>1</td>\n",
       "      <td>Arielle</td>\n",
       "      <td>R</td>\n",
       "      <td>8</td>\n",
       "      <td>20</td>\n",
       "      <td>40.0</td>\n",
       "    </tr>\n",
       "    <tr>\n",
       "      <th>1</th>\n",
       "      <td>2</td>\n",
       "      <td>Arielle</td>\n",
       "      <td>R</td>\n",
       "      <td>10</td>\n",
       "      <td>20</td>\n",
       "      <td>50.0</td>\n",
       "    </tr>\n",
       "    <tr>\n",
       "      <th>2</th>\n",
       "      <td>3</td>\n",
       "      <td>Arielle</td>\n",
       "      <td>R</td>\n",
       "      <td>6</td>\n",
       "      <td>20</td>\n",
       "      <td>30.0</td>\n",
       "    </tr>\n",
       "    <tr>\n",
       "      <th>3</th>\n",
       "      <td>4</td>\n",
       "      <td>Arielle</td>\n",
       "      <td>L</td>\n",
       "      <td>4</td>\n",
       "      <td>20</td>\n",
       "      <td>20.0</td>\n",
       "    </tr>\n",
       "    <tr>\n",
       "      <th>4</th>\n",
       "      <td>5</td>\n",
       "      <td>Arielle</td>\n",
       "      <td>R</td>\n",
       "      <td>7</td>\n",
       "      <td>20</td>\n",
       "      <td>35.0</td>\n",
       "    </tr>\n",
       "    <tr>\n",
       "      <th>...</th>\n",
       "      <td>...</td>\n",
       "      <td>...</td>\n",
       "      <td>...</td>\n",
       "      <td>...</td>\n",
       "      <td>...</td>\n",
       "      <td>...</td>\n",
       "    </tr>\n",
       "    <tr>\n",
       "      <th>95</th>\n",
       "      <td>46</td>\n",
       "      <td>Boris</td>\n",
       "      <td>R</td>\n",
       "      <td>10</td>\n",
       "      <td>20</td>\n",
       "      <td>50.0</td>\n",
       "    </tr>\n",
       "    <tr>\n",
       "      <th>96</th>\n",
       "      <td>47</td>\n",
       "      <td>Boris</td>\n",
       "      <td>L</td>\n",
       "      <td>4</td>\n",
       "      <td>20</td>\n",
       "      <td>20.0</td>\n",
       "    </tr>\n",
       "    <tr>\n",
       "      <th>97</th>\n",
       "      <td>48</td>\n",
       "      <td>Boris</td>\n",
       "      <td>R</td>\n",
       "      <td>12</td>\n",
       "      <td>20</td>\n",
       "      <td>60.0</td>\n",
       "    </tr>\n",
       "    <tr>\n",
       "      <th>98</th>\n",
       "      <td>49</td>\n",
       "      <td>Boris</td>\n",
       "      <td>L</td>\n",
       "      <td>4</td>\n",
       "      <td>20</td>\n",
       "      <td>20.0</td>\n",
       "    </tr>\n",
       "    <tr>\n",
       "      <th>99</th>\n",
       "      <td>50</td>\n",
       "      <td>Boris</td>\n",
       "      <td>L</td>\n",
       "      <td>7</td>\n",
       "      <td>20</td>\n",
       "      <td>35.0</td>\n",
       "    </tr>\n",
       "  </tbody>\n",
       "</table>\n",
       "<p>100 rows × 6 columns</p>\n",
       "</div>"
      ],
      "text/plain": [
       "    match_day     name hand  score  attempts  %score\n",
       "0           1  Arielle    R      8        20    40.0\n",
       "1           2  Arielle    R     10        20    50.0\n",
       "2           3  Arielle    R      6        20    30.0\n",
       "3           4  Arielle    L      4        20    20.0\n",
       "4           5  Arielle    R      7        20    35.0\n",
       "..        ...      ...  ...    ...       ...     ...\n",
       "95         46    Boris    R     10        20    50.0\n",
       "96         47    Boris    L      4        20    20.0\n",
       "97         48    Boris    R     12        20    60.0\n",
       "98         49    Boris    L      4        20    20.0\n",
       "99         50    Boris    L      7        20    35.0\n",
       "\n",
       "[100 rows x 6 columns]"
      ]
     },
     "execution_count": 133,
     "metadata": {},
     "output_type": "execute_result"
    }
   ],
   "source": [
    "paypal_data"
   ]
  },
  {
   "cell_type": "code",
   "execution_count": 135,
   "metadata": {},
   "outputs": [],
   "source": [
    "boris_left_sd = st.stdev(paypal_data.loc[(paypal_data['hand']=='L') & (paypal_data['name']=='Boris'),'%score'])\n",
    "boris_right_sd = st.stdev(paypal_data.loc[(paypal_data['hand']=='R') & (paypal_data['name']=='Boris'),'%score'])"
   ]
  },
  {
   "cell_type": "code",
   "execution_count": 145,
   "metadata": {},
   "outputs": [],
   "source": [
    "boris_sd_new = ((15*((boris_left_sd**2)+(boris_score_new-28.43)**2)+35*((boris_left_sd**2)+(boris_score_new-46.33)**2))/(15+35))**(0.5)"
   ]
  },
  {
   "cell_type": "code",
   "execution_count": 146,
   "metadata": {},
   "outputs": [
    {
     "data": {
      "text/plain": [
       "13.640660270127762"
      ]
     },
     "execution_count": 146,
     "metadata": {},
     "output_type": "execute_result"
    }
   ],
   "source": [
    "boris_sd_new"
   ]
  },
  {
   "cell_type": "code",
   "execution_count": 148,
   "metadata": {},
   "outputs": [],
   "source": [
    "arielle_sd = st.stdev(paypal_data.loc[(paypal_data['name']=='Boris'),'%score'])"
   ]
  },
  {
   "cell_type": "code",
   "execution_count": 150,
   "metadata": {},
   "outputs": [],
   "source": [
    "t_stats = (40.96-34.10)/((((boris_sd_new**2)/50)+((arielle_sd**2)/50))**(0.5))"
   ]
  },
  {
   "cell_type": "code",
   "execution_count": 190,
   "metadata": {},
   "outputs": [
    {
     "data": {
      "text/plain": [
       "2.559815469417568"
      ]
     },
     "execution_count": 190,
     "metadata": {},
     "output_type": "execute_result"
    }
   ],
   "source": [
    "t_stats"
   ]
  },
  {
   "cell_type": "markdown",
   "metadata": {},
   "source": [
    "__Hypothesis testing to check if Boris has better score than Arielle__\n",
    "\n",
    "__H0:__ Boris score = Arielle score\n",
    "\n",
    "__Ha:__ Boris score > Arielle score"
   ]
  },
  {
   "cell_type": "code",
   "execution_count": 232,
   "metadata": {},
   "outputs": [
    {
     "data": {
      "text/plain": [
       "0.003000144868842545"
      ]
     },
     "execution_count": 232,
     "metadata": {},
     "output_type": "execute_result"
    }
   ],
   "source": [
    "# T-test assuming\n",
    "(stats.t.sf(abs(t_stats), df=98))/2"
   ]
  },
  {
   "cell_type": "markdown",
   "metadata": {},
   "source": [
    "p-value of two-sample t-test (0.0034) is less than 0.05, hence both the scores are not equal\n",
    "\n",
    "We can say Boris's score is greater than that of Arielle"
   ]
  },
  {
   "cell_type": "markdown",
   "metadata": {},
   "source": [
    "#### __Conclusion:__ If Boris uses his dominant hand more or as his preferred hand then he is better pan-cake flipper than Arielle"
   ]
  }
 ],
 "metadata": {
  "kernelspec": {
   "display_name": "Python 3",
   "language": "python",
   "name": "python3"
  },
  "language_info": {
   "codemirror_mode": {
    "name": "ipython",
    "version": 3
   },
   "file_extension": ".py",
   "mimetype": "text/x-python",
   "name": "python",
   "nbconvert_exporter": "python",
   "pygments_lexer": "ipython3",
   "version": "3.7.6"
  }
 },
 "nbformat": 4,
 "nbformat_minor": 4
}
